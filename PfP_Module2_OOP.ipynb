{
 "cells": [
  {
   "cell_type": "markdown",
   "id": "b8b22db4-73ef-49c7-9841-cd545185dee7",
   "metadata": {},
   "source": [
    "Python for Programmers - Module 2: Object Oriented Programming\n",
    "=============================================================="
   ]
  },
  {
   "cell_type": "markdown",
   "id": "b91d78ff-351a-4809-bafe-a4e6c488035f",
   "metadata": {},
   "source": [
    "# Classes and Objects\n",
    "Most of this was review. A couple new takeaways:\n",
    "* Class atributes vs instance atributes: class atributes (defined above the `__init__`) are **shared by all instances of the class**. Note that this means that **updating it for one instance will update it for all instances!**\n",
    "* Python class attributes and methods are public by default. Attributes or methods can be made private (unaccesible) by using two underscores (i.e., `self.__name = 'private name'`). \n",
    "* Trying to access a private attribute will throw an error, however, we can use use the following syntax to access if necessary:\n",
    "\n",
    "```python\n",
    "class TestClass:\n",
    "    def __init__():\n",
    "        self.__private_name = 'private name'\n",
    "\n",
    "class_instance = TestClass()\n",
    "class_instance.__private_name -> AttributeError!\n",
    "\n",
    "class_instance._TestClass__private_name -> 'private name'\n",
    "```\n",
    "* Static methods are only aware of their inputs, class methods are aware of class attributes and non-instance methods, and normal instance functions know all instance attributes.\n"
   ]
  },
  {
   "cell_type": "markdown",
   "id": "800fb6d6-95ca-4d64-b49f-834b589029fc",
   "metadata": {},
   "source": [
    "# Information Hiding\n",
    "* Information hiding refers to hiding aspects of a class, and providing an outward facing interface. This is relevant because of the fact that class attributes/methods are shared by all instances of a class, therefore you do not want to allow an instance to effect other instances via altering such attributes/methods.\n",
    "* **Encapsulation**: The idea that data and any methods used to alter said data should be bound together in a single class. This can be done by making private attributes, and creating a public interface (i.e. getters and setters) to interact with them. For example, a login class where the username and password were public attributes would allow anyone to set the password for a user to whatever they want, and easily hack into the system!\n",
    "* Simple getter and setter example:\n",
    "```python\n",
    "class User:\n",
    "    def __init__(self, username=None):  # defining initializer\n",
    "        self.__username = username\n",
    "\n",
    "    def setUsername(self, x): # setter\n",
    "        self.__username = x\n",
    "\n",
    "    def getUsername(self): # getter\n",
    "        return (self.__username)\n",
    "```\n",
    "* **Note that class functions can alter private attributes/methods, but direct setting on a instance is not allowed!** This also allows the nature of changes to a class to be highly regulated.\n",
    "* Also note that private attributes can be instantiated in the `__init__` function.\n",
    "* **See below for interesting nuance around private attributed!**"
   ]
  },
  {
   "cell_type": "code",
   "execution_count": 13,
   "id": "fbee6d65-1b82-4bdb-a993-123e916cab87",
   "metadata": {},
   "outputs": [],
   "source": [
    "# my solution from the end of the section\n",
    "class Student:\n",
    "    __school = 'Markus Garvey'\n",
    "\n",
    "    def __init__(self):\n",
    "        self.__name = None\n",
    "        self.__rollNumber = None\n",
    "\n",
    "    def setName(self, name):\n",
    "        self.__name = name\n",
    "\n",
    "    def getName(self):\n",
    "        if self.__name is not None:\n",
    "            return self.__name\n",
    "\n",
    "    def setRollNumber(self, rollNumber):\n",
    "        self.__rollNumber = rollNumber\n",
    "\n",
    "    def getRollNumber(self):\n",
    "        if self.__rollNumber is not None:\n",
    "            return self.__rollNumber"
   ]
  },
  {
   "cell_type": "code",
   "execution_count": 36,
   "id": "0c3e5373-bcb6-4249-aa5f-6149dd4e531c",
   "metadata": {},
   "outputs": [
    {
     "name": "stdout",
     "output_type": "stream",
     "text": [
      "Setting the class variable and direct access: mark\n",
      "Using getName(): Chad\n"
     ]
    }
   ],
   "source": [
    "student1 = Student()\n",
    "\n",
    "student1.__name = 'mark'\n",
    "print(f'Setting the class variable and direct access: {student1.__name}')\n",
    "student1.setName('Chad')\n",
    "print(f'Using getName(): {student1.getName()}')"
   ]
  },
  {
   "cell_type": "markdown",
   "id": "a9b199bc-8ff5-4f96-966c-a12b2f042fcc",
   "metadata": {},
   "source": [
    "**Okay sort of strange, the class does not seem to behave as expected?**\n",
    "\n",
    "Let's investigate! Seems that we defined a new __name variable that is not the same as the private on which is denoted `_Student__name`. This is relevant!"
   ]
  },
  {
   "cell_type": "code",
   "execution_count": 31,
   "id": "ad4fc7c8-bd3b-417b-8496-8196efde1b94",
   "metadata": {},
   "outputs": [
    {
     "name": "stdout",
     "output_type": "stream",
     "text": [
      "['_Student__name', '_Student__rollNumber', '__name', '__module__', '_Student__school', '__init__', 'setName', 'getName', 'setRollNumber', 'getRollNumber', '__dict__', '__weakref__', '__doc__', '__repr__', '__hash__', '__str__', '__getattribute__', '__setattr__', '__delattr__', '__lt__', '__le__', '__eq__', '__ne__', '__gt__', '__ge__', '__new__', '__reduce_ex__', '__reduce__', '__subclasshook__', '__init_subclass__', '__format__', '__sizeof__', '__dir__', '__class__']\n"
     ]
    }
   ],
   "source": [
    "print(student1.__dir__())"
   ]
  },
  {
   "cell_type": "code",
   "execution_count": 39,
   "id": "f6584b9d-52b3-4426-ae15-971ddd70e4bb",
   "metadata": {},
   "outputs": [
    {
     "data": {
      "text/plain": [
       "'Chad'"
      ]
     },
     "metadata": {},
     "output_type": "display_data"
    }
   ],
   "source": [
    "display(getattr(student1, '_Student__name'))"
   ]
  },
  {
   "cell_type": "code",
   "execution_count": 40,
   "id": "9f7e2821-21f2-41df-a6e3-7cb0215d5f98",
   "metadata": {},
   "outputs": [
    {
     "data": {
      "text/plain": [
       "'Chad'"
      ]
     },
     "metadata": {},
     "output_type": "display_data"
    }
   ],
   "source": [
    "display(student1.getName())"
   ]
  },
  {
   "cell_type": "code",
   "execution_count": 41,
   "id": "7e7ce326-2ba6-459c-9eed-d5ab3deca39b",
   "metadata": {},
   "outputs": [
    {
     "data": {
      "text/plain": [
       "'mark'"
      ]
     },
     "metadata": {},
     "output_type": "display_data"
    }
   ],
   "source": [
    "display(getattr(student1, '__name'))"
   ]
  },
  {
   "cell_type": "code",
   "execution_count": 44,
   "id": "cf3fe514-d263-4ba9-b029-a59f72a7ce5e",
   "metadata": {},
   "outputs": [
    {
     "data": {
      "text/plain": [
       "'not chad'"
      ]
     },
     "metadata": {},
     "output_type": "display_data"
    }
   ],
   "source": [
    "# this should throw an error then? If it doesn't it really seems to defeat the point!\n",
    "student1._Student__name = 'not chad'\n",
    "display(student1.getName())"
   ]
  },
  {
   "cell_type": "code",
   "execution_count": 47,
   "id": "c52b61e4-acc7-480b-93b6-aa1ff6371e24",
   "metadata": {},
   "outputs": [],
   "source": [
    "class Circle:\n",
    "    pi = 3.14\n",
    "    def __init__(self, radius):\n",
    "        self.radius = radius\n",
    "\n",
    "    def print_area(self):\n",
    "        return self.pi * (self.radius ** 2)"
   ]
  },
  {
   "cell_type": "code",
   "execution_count": 48,
   "id": "ddfff5ba-0f15-4f90-a6e3-732024f40ee0",
   "metadata": {},
   "outputs": [
    {
     "data": {
      "text/plain": [
       "28.26"
      ]
     },
     "execution_count": 48,
     "metadata": {},
     "output_type": "execute_result"
    }
   ],
   "source": [
    "d = Circle(3)\n",
    "d.print_area()"
   ]
  },
  {
   "cell_type": "markdown",
   "id": "39e9cbd4-0082-4476-9dfd-bbcacc73e5c7",
   "metadata": {},
   "source": [
    "# Inheritance"
   ]
  },
  {
   "cell_type": "markdown",
   "id": "6f9e098e-6720-4e23-a75b-155ae464909b",
   "metadata": {},
   "source": [
    "# Polymorphism"
   ]
  },
  {
   "cell_type": "markdown",
   "id": "c2222acf-2ddf-4888-ac28-ebc59be5ba65",
   "metadata": {},
   "source": [
    "# Object Relationships"
   ]
  },
  {
   "cell_type": "code",
   "execution_count": null,
   "id": "b63defdc-d0f0-4834-bc4d-045c9af52df1",
   "metadata": {},
   "outputs": [],
   "source": []
  }
 ],
 "metadata": {
  "kernelspec": {
   "display_name": "Python 3 (ipykernel)",
   "language": "python",
   "name": "python3"
  },
  "language_info": {
   "codemirror_mode": {
    "name": "ipython",
    "version": 3
   },
   "file_extension": ".py",
   "mimetype": "text/x-python",
   "name": "python",
   "nbconvert_exporter": "python",
   "pygments_lexer": "ipython3",
   "version": "3.9.10"
  },
  "toc-autonumbering": true
 },
 "nbformat": 4,
 "nbformat_minor": 5
}
