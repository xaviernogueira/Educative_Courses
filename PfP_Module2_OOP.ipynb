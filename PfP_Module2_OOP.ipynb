{
 "cells": [
  {
   "cell_type": "markdown",
   "id": "b8b22db4-73ef-49c7-9841-cd545185dee7",
   "metadata": {},
   "source": [
    "Python for Programmers - Module 2: Object Oriented Programming\n",
    "=============================================================="
   ]
  },
  {
   "cell_type": "markdown",
   "id": "b91d78ff-351a-4809-bafe-a4e6c488035f",
   "metadata": {},
   "source": [
    "# Classes and Objects\n",
    "Most of this was review. A couple new takeaways:\n",
    "* Class atributes vs instance atributes: class atributes (defined above the `__init__`) are **shared by all instances of the class**. Note that this means that **updating it for one instance will update it for all instances!**\n",
    "* Python class attributes and methods are public by default. Attributes or methods can be made private (unaccesible) by using two underscores (i.e., `self.__name = 'private name'`). \n",
    "* Trying to access a private attribute will throw an error, however, we can use use the following syntax to access if necessary:\n",
    "\n",
    "```python\n",
    "class TestClass:\n",
    "    def __init__():\n",
    "        self.__private_name = 'private name'\n",
    "\n",
    "class_instance = TestClass()\n",
    "class_instance.__private_name -> AttributeError!\n",
    "\n",
    "class_instance._TestClass__private_name -> 'private name'\n",
    "```\n",
    "* Static methods are only aware of their inputs, class methods are aware of class attributes and non-instance methods, and normal instance functions know all instance attributes.\n"
   ]
  },
  {
   "cell_type": "markdown",
   "id": "800fb6d6-95ca-4d64-b49f-834b589029fc",
   "metadata": {},
   "source": [
    "# Information Hiding\n",
    "* Information hiding refers to hiding aspects of a class, and providing an outward facing interface. This is relevant because of the fact that class attributes/methods are shared by all instances of a class, therefore you do not want to allow an instance to effect other instances via altering such attributes/methods.\n",
    "* **Encapsulation**: The idea that data and any methods used to alter said data should be bound together in a single class. This can be done by making private attributes, and creating a public interface (i.e. getters and setters) to interact with them. For example, a login class where the username and password were public attributes would allow anyone to set the password for a user to whatever they want, and easily hack into the system!\n",
    "* Simple getter and setter example:\n",
    "```python\n",
    "class User:\n",
    "    def __init__(self, username=None):  # defining initializer\n",
    "        self.__username = username\n",
    "\n",
    "    def setUsername(self, x): # setter\n",
    "        self.__username = x\n",
    "\n",
    "    def getUsername(self): # getter\n",
    "        return (self.__username)\n",
    "```\n",
    "* **Note that class functions can alter private attributes/methods, but direct setting on a instance is not allowed!** This also allows the nature of changes to a class to be highly regulated.\n",
    "* Also note that private attributes can be instantiated in the `__init__` function.\n",
    "* **See below for interesting nuance around private attributed!**"
   ]
  },
  {
   "cell_type": "code",
   "execution_count": 1,
   "id": "fbee6d65-1b82-4bdb-a993-123e916cab87",
   "metadata": {},
   "outputs": [],
   "source": [
    "# my solution from the end of the section\n",
    "class Student:\n",
    "    __school = 'Markus Garvey'\n",
    "\n",
    "    def __init__(self):\n",
    "        self.__name = None\n",
    "        self.__rollNumber = None\n",
    "\n",
    "    def setName(self, name):\n",
    "        self.__name = name\n",
    "\n",
    "    def getName(self):\n",
    "        if self.__name is not None:\n",
    "            return self.__name\n",
    "\n",
    "    def setRollNumber(self, rollNumber):\n",
    "        self.__rollNumber = rollNumber\n",
    "\n",
    "    def getRollNumber(self):\n",
    "        if self.__rollNumber is not None:\n",
    "            return self.__rollNumber"
   ]
  },
  {
   "cell_type": "code",
   "execution_count": 4,
   "id": "0c3e5373-bcb6-4249-aa5f-6149dd4e531c",
   "metadata": {},
   "outputs": [
    {
     "name": "stdout",
     "output_type": "stream",
     "text": [
      "Setting the class variable and direct access: mark\n",
      "Using getName(): Chad\n",
      "not chad\n"
     ]
    }
   ],
   "source": [
    "student1 = Student()\n",
    "\n",
    "student1.__name = 'mark'\n",
    "print(f'Setting the class variable and direct access: {student1.__name}')\n",
    "student1.setName('Chad')\n",
    "print(f'Using getName(): {student1.getName()}')\n",
    "student1._Student__name = 'not chad'\n",
    "print(student1.getName())"
   ]
  },
  {
   "cell_type": "markdown",
   "id": "a9b199bc-8ff5-4f96-966c-a12b2f042fcc",
   "metadata": {},
   "source": [
    "**Okay sort of strange, the class does not seem to behave as expected?**\n",
    "\n",
    "Let's investigate! Seems that we defined a new __name variable that is not the same as the private on which is denoted `_Student__name`. This is relevant!"
   ]
  },
  {
   "cell_type": "code",
   "execution_count": 31,
   "id": "ad4fc7c8-bd3b-417b-8496-8196efde1b94",
   "metadata": {},
   "outputs": [
    {
     "name": "stdout",
     "output_type": "stream",
     "text": [
      "['_Student__name', '_Student__rollNumber', '__name', '__module__', '_Student__school', '__init__', 'setName', 'getName', 'setRollNumber', 'getRollNumber', '__dict__', '__weakref__', '__doc__', '__repr__', '__hash__', '__str__', '__getattribute__', '__setattr__', '__delattr__', '__lt__', '__le__', '__eq__', '__ne__', '__gt__', '__ge__', '__new__', '__reduce_ex__', '__reduce__', '__subclasshook__', '__init_subclass__', '__format__', '__sizeof__', '__dir__', '__class__']\n"
     ]
    }
   ],
   "source": [
    "print(student1.__dir__())"
   ]
  },
  {
   "cell_type": "code",
   "execution_count": 39,
   "id": "f6584b9d-52b3-4426-ae15-971ddd70e4bb",
   "metadata": {},
   "outputs": [
    {
     "data": {
      "text/plain": [
       "'Chad'"
      ]
     },
     "metadata": {},
     "output_type": "display_data"
    }
   ],
   "source": [
    "display(getattr(student1, '_Student__name'))"
   ]
  },
  {
   "cell_type": "code",
   "execution_count": 40,
   "id": "9f7e2821-21f2-41df-a6e3-7cb0215d5f98",
   "metadata": {},
   "outputs": [
    {
     "data": {
      "text/plain": [
       "'Chad'"
      ]
     },
     "metadata": {},
     "output_type": "display_data"
    }
   ],
   "source": [
    "display(student1.getName())"
   ]
  },
  {
   "cell_type": "code",
   "execution_count": 41,
   "id": "7e7ce326-2ba6-459c-9eed-d5ab3deca39b",
   "metadata": {},
   "outputs": [
    {
     "data": {
      "text/plain": [
       "'mark'"
      ]
     },
     "metadata": {},
     "output_type": "display_data"
    }
   ],
   "source": [
    "display(getattr(student1, '__name'))"
   ]
  },
  {
   "cell_type": "code",
   "execution_count": 44,
   "id": "cf3fe514-d263-4ba9-b029-a59f72a7ce5e",
   "metadata": {},
   "outputs": [
    {
     "data": {
      "text/plain": [
       "'not chad'"
      ]
     },
     "metadata": {},
     "output_type": "display_data"
    }
   ],
   "source": [
    "# this should throw an error then? If it doesn't it really seems to defeat the point!\n",
    "student1._Student__name = 'not chad'\n",
    "display(student1.getName())"
   ]
  },
  {
   "cell_type": "code",
   "execution_count": 47,
   "id": "c52b61e4-acc7-480b-93b6-aa1ff6371e24",
   "metadata": {},
   "outputs": [],
   "source": [
    "class Circle:\n",
    "    pi = 3.14\n",
    "    def __init__(self, radius):\n",
    "        self.radius = radius\n",
    "\n",
    "    def print_area(self):\n",
    "        return self.pi * (self.radius ** 2)"
   ]
  },
  {
   "cell_type": "code",
   "execution_count": 48,
   "id": "ddfff5ba-0f15-4f90-a6e3-732024f40ee0",
   "metadata": {},
   "outputs": [
    {
     "data": {
      "text/plain": [
       "28.26"
      ]
     },
     "execution_count": 48,
     "metadata": {},
     "output_type": "execute_result"
    }
   ],
   "source": [
    "d = Circle(3)\n",
    "d.print_area()"
   ]
  },
  {
   "cell_type": "markdown",
   "id": "39e9cbd4-0082-4476-9dfd-bbcacc73e5c7",
   "metadata": {},
   "source": [
    "# Inheritance\n",
    "\n",
    "* A **child class** can inherit all **non-private** variables and methods from the **parent class**.\n",
    "* The init function of the parent class is not automatically called, but can be nested within the init function of the child class. In the example below one could query Car.color and get the color associated with the underlying/parent Vehicle class.\n",
    "    \n",
    "```python\n",
    "    class Vehicle:\n",
    "        def __init__(self, make, color, model):\n",
    "            self.make = make\n",
    "            self.color = color\n",
    "            self.model = model\n",
    "\n",
    "        def printDetails(self):\n",
    "            print(\"Manufacturer:\", self.make)\n",
    "            print(\"Color:\", self.color)\n",
    "            print(\"Model:\", self.model)\n",
    "\n",
    "\n",
    "    class Car(Vehicle):\n",
    "        def __init__(self, make, color, model, doors):\n",
    "            \n",
    "            # calling the constructor from parent class by name\n",
    "            Vehicle.__init__(self, make, color, model)\n",
    "            \n",
    "            # OR using super() NOTE NO SELF ARG \n",
    "            super().__init__(make, color, model)\n",
    "            self.doors = doors\n",
    "\n",
    "        def printCarDetails(self):\n",
    "            self.printDetails()\n",
    "            print(\"Doors:\", self.doors)\n",
    "```\n",
    "* `super()` can also be used to refer to the parent class variables/methods without specifying it by name -> more refactor friendly.\n",
    "    * Note that **we don't need to pass a `self` argument when using super()**, as opposed to refering it by name!\n",
    "    * In multiple inheritence we can still use super(), however be sure not to double name attributes.\n",
    "    * **NOTE:** `super().__init__()` can only be called within the child class's `__init__` function!\n",
    "* One class can inherit from multiple classes. Additionally **hybrid inheritence** refers to when one class inherits from multiple classes, that all inherit from some other parent class (see example below).\n",
    "* An advantage of inheritence is that **private variables/methods are not inherited therefore they can be unalterable from the child class**."
   ]
  },
  {
   "cell_type": "code",
   "execution_count": 71,
   "id": "7c74c171-ae63-4208-a00e-77905db3852c",
   "metadata": {},
   "outputs": [],
   "source": [
    "class A:\n",
    "    instance_names = []\n",
    "\n",
    "    def __init__(self, name, height_m):\n",
    "        self.animal_name = name\n",
    "        self.height_m = height_m\n",
    "        self.height_ft = self.height_m * 3.28\n",
    "        A.instance_names.append(self)"
   ]
  },
  {
   "cell_type": "code",
   "execution_count": 72,
   "id": "933824fe-00ed-4dd5-8d2f-4c500283720f",
   "metadata": {},
   "outputs": [],
   "source": [
    "# lets assume the number is the height in m\n",
    "animals = {\n",
    "    'dog': 10,\n",
    "    'cat': 4,\n",
    "    'frog': 0.1,\n",
    "}"
   ]
  },
  {
   "cell_type": "code",
   "execution_count": 73,
   "id": "20de56d2-7ceb-4f4c-9564-527169275a9b",
   "metadata": {},
   "outputs": [],
   "source": [
    "for n in animals.keys():\n",
    "    a = A(n, animals[n])"
   ]
  },
  {
   "cell_type": "code",
   "execution_count": 74,
   "id": "0d324a3d-ebe2-4a8e-8cd7-fd9764e1167d",
   "metadata": {},
   "outputs": [
    {
     "data": {
      "text/plain": [
       "[<__main__.A at 0x17e561ef490>,\n",
       " <__main__.A at 0x17e561efa90>,\n",
       " <__main__.A at 0x17e561ef880>]"
      ]
     },
     "execution_count": 74,
     "metadata": {},
     "output_type": "execute_result"
    }
   ],
   "source": [
    "A.instance_names"
   ]
  },
  {
   "cell_type": "code",
   "execution_count": 76,
   "id": "52a71689-873e-45b7-9193-da0ed3fa1b0b",
   "metadata": {},
   "outputs": [
    {
     "name": "stdout",
     "output_type": "stream",
     "text": [
      "A dog is 32.8ft tall\n",
      "A cat is 13.12ft tall\n",
      "A frog is 0.328ft tall\n"
     ]
    }
   ],
   "source": [
    "for a in A.instance_names:\n",
    "    print(f'A {a.animal_name} is {a.height_ft}ft tall')"
   ]
  },
  {
   "cell_type": "code",
   "execution_count": null,
   "id": "33b3597e-3d9b-4342-b159-129eba5babdb",
   "metadata": {},
   "outputs": [],
   "source": [
    "# example of hybrid inheritence\n",
    "class Engine:  # Parent class\n",
    "    def setPower(self, power):\n",
    "        self.power = power\n",
    "\n",
    "\n",
    "class CombustionEngine(Engine):  # Child class inherited from Engine\n",
    "    def setTankCapacity(self, tankCapacity):\n",
    "        self.tankCapacity = tankCapacity\n",
    "\n",
    "\n",
    "class ElectricEngine(Engine):  # Child class inherited from Engine\n",
    "    def setChargeCapacity(self, chargeCapacity):\n",
    "        self.chargeCapacity = chargeCapacity\n",
    "\n",
    "# Child class inherited from CombustionEngine and ElectricEngine\n",
    "\n",
    "\n",
    "class HybridEngine(CombustionEngine, ElectricEngine):\n",
    "    def printDetails(self):\n",
    "        print(\"Power:\", self.power)\n",
    "        print(\"Tank Capacity:\", self.tankCapacity)\n",
    "        print(\"Charge Capacity:\", self.chargeCapacity)\n",
    "\n",
    "\n",
    "car = HybridEngine()\n",
    "car.setPower(\"2000 CC\")\n",
    "car.setChargeCapacity(\"250 W\")\n",
    "car.setTankCapacity(\"20 Litres\")\n",
    "car.printDetails()"
   ]
  },
  {
   "cell_type": "markdown",
   "id": "6f9e098e-6720-4e23-a75b-155ae464909b",
   "metadata": {},
   "source": [
    "# Polymorphism\n",
    "* Essentially the same class having different forms. For example a `Shape` class could be a triangle, square, or rectangle.\n",
    "* A base `Shape` class defines function like `Shape.get_area()` **without providing an implementation**, and a class like `Triangle(Shape)` creates an appropriate implementation.\n",
    "    * This is known as \"method overriding\".\n",
    "    * One can access the overrided attribute/method using `super()`\n",
    "* Technically just mirroring class functions counts as polymorphism, but using inheritence is the nicer way.\n",
    "* **Operator overloading:** We can use base python to leverage operators between our custom classes!\n",
    "    * **Naming the second argument after self \"other\" is the convention!**\n",
    "    * For example, `+` behaves differently for string and float classes, but also is used with `hvplot` plots.\n",
    "    * This is implemented with `__add__` and `__sub__`. See example below!\n",
    "    * From what I am reading, it seems that you would get an attribute error if you try to do it between two different classes, or more specifically, two classes with different attribute names.\n",
    "    * Can also implement `__eq__ for ==`, `__truediv__ for /`, `__mul__ for *`, `__lt__ for <`, `__gt__ for <`.\n",
    "* \"Duck typing\" refers to using a class based on it's attributes, not its specific type. For example, a class can have a method that takes another class as an argument and returns one of it's attribute by name. This will work without specifying valid classes, as long as the attribute exists.\n",
    "* `ABC` module allows abstract base classes to be defined, and all child classes must instantialize all methods/attributes and inherit from the ABC."
   ]
  },
  {
   "cell_type": "code",
   "execution_count": 2,
   "id": "0d2461bc-37df-47f6-926a-df3b1ff94a99",
   "metadata": {},
   "outputs": [],
   "source": [
    "# example of polymorphism with inheritience\n",
    "class Shape:\n",
    "    def __init__(self):\n",
    "        self.sides = 0\n",
    "\n",
    "    def getArea(self):\n",
    "        pass\n",
    "\n",
    "# Rectangle IS A Shape with a specific width and height\n",
    "class Rectangle(Shape):  # derived form Shape class\n",
    "    def __init__(self, width, height):\n",
    "        self.width = width\n",
    "        self.height = height\n",
    "        self.sides = 4\n",
    "\n",
    "    # method to calculate Area\n",
    "    def getArea(self):\n",
    "        return (self.width * self.height)"
   ]
  },
  {
   "cell_type": "code",
   "execution_count": 6,
   "id": "4d9b33ac-316a-40a3-8f9d-4570ceea46ea",
   "metadata": {},
   "outputs": [
    {
     "data": {
      "text/plain": [
       "5"
      ]
     },
     "execution_count": 6,
     "metadata": {},
     "output_type": "execute_result"
    }
   ],
   "source": [
    "# example of operator overloading\n",
    "class Com:\n",
    "    def __init__(self, real=0, imag=0):\n",
    "        self.real = real\n",
    "        self.imag = imag\n",
    "\n",
    "    def __add__(self, other):  # overloading the `+` operator\n",
    "        temp = Com(self.real + other.real, self.imag + other.imag)\n",
    "        return temp\n",
    "\n",
    "    def __sub__(self, other):  # overloading the `-` operator\n",
    "        temp = Com(self.real - other.real, self.imag - other.imag)\n",
    "        return temp\n",
    "obj1 = Com(3, 7)\n",
    "obj2 = Com(2, 5)\n",
    "\n",
    "obj3 = obj1 + obj2\n",
    "obj3.real"
   ]
  },
  {
   "cell_type": "code",
   "execution_count": 8,
   "id": "097692f1-e63b-4b94-9c0e-f03fd87c44cb",
   "metadata": {},
   "outputs": [
    {
     "name": "stdout",
     "output_type": "stream",
     "text": [
      "Name: Pongo\n",
      "Sound: Woof Woof\n",
      "Family: Husky\n",
      " \n",
      "Name: Billy\n",
      "Sound: Baaa Baaa\n",
      "Color: White\n"
     ]
    }
   ],
   "source": [
    "# an example of polymorphism with super()\n",
    "class Animal:\n",
    "    def __init__(self, name, sound):\n",
    "        self.name = name\n",
    "        self.sound = sound\n",
    "\n",
    "    def Animal_details(self):\n",
    "        print('Name: ' + self.name)\n",
    "        print('Sound: ' + self.sound)\n",
    "\n",
    "class Dog(Animal):\n",
    "    def __init__(self, name, sound, family):\n",
    "        super().__init__(name, sound)\n",
    "        self.family = family\n",
    "\n",
    "    def Animal_details(self):\n",
    "        super().Animal_details()\n",
    "        print('Family: ' + self.family)\n",
    "\n",
    "class Sheep(Animal):\n",
    "    def __init__(self, name, sound, color):\n",
    "        super().__init__(name, sound)\n",
    "        self.color = color\n",
    "\n",
    "    def Animal_details(self):\n",
    "        super().Animal_details()\n",
    "        print('Color: ' + self.color)\n",
    "\n",
    "\n",
    "# print outputs\n",
    "d = Dog(\"Pongo\", \"Woof Woof\", \"Husky\")\n",
    "d.Animal_details()\n",
    "print(\" \")\n",
    "s = Sheep(\"Billy\", \"Baaa Baaa\", \"White\")\n",
    "s.Animal_details()"
   ]
  },
  {
   "cell_type": "markdown",
   "id": "c2222acf-2ddf-4888-ac28-ebc59be5ba65",
   "metadata": {},
   "source": [
    "# Object Relationships\n",
    "* As opposed to inheritence, where classes have relationships, there are other situations wher you want objects to have relationships.\n",
    "* A class can be another class, can be a part of another class, or a class can have a another class's object as a property. The later two are refered to as \"association\".\n",
    "* **Aggregation**: A class can have a **reference to another class** as an attribute. If one deletes the main class, the referenced-to continues to exist. Not that crazy in practice, for example, one can instantiate a class with an object as the argument. The object lives on even when the class is deleted.\n",
    "* **Composition:** Refers to a \"part-of\" relationship where a class objects are instantialized as part of the `__init__` of another class. When the class is deleted, the objects composing the class are too.\n",
    "* In the final problem, when I instantiated a attribute from the init arguments (default argument), it failed, but worked when it wasn't an argument! Be careful here!"
   ]
  },
  {
   "cell_type": "code",
   "execution_count": null,
   "id": "b63defdc-d0f0-4834-bc4d-045c9af52df1",
   "metadata": {},
   "outputs": [],
   "source": []
  }
 ],
 "metadata": {
  "kernelspec": {
   "display_name": "Python 3 (ipykernel)",
   "language": "python",
   "name": "python3"
  },
  "language_info": {
   "codemirror_mode": {
    "name": "ipython",
    "version": 3
   },
   "file_extension": ".py",
   "mimetype": "text/x-python",
   "name": "python",
   "nbconvert_exporter": "python",
   "pygments_lexer": "ipython3",
   "version": "3.9.10"
  },
  "toc-autonumbering": true
 },
 "nbformat": 4,
 "nbformat_minor": 5
}
